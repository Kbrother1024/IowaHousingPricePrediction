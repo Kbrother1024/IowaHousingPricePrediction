{
 "cells": [
  {
   "cell_type": "markdown",
   "metadata": {},
   "source": [
    "# Import Library"
   ]
  },
  {
   "cell_type": "code",
   "execution_count": 6,
   "metadata": {},
   "outputs": [],
   "source": [
    "#import library\n",
    "import pandas as pd\n",
    "import numpy as np\n",
    "import seaborn as sns\n",
    "import matplotlib.pyplot as plt\n",
    "\n",
    "import IPython\n",
    "from IPython import display\n",
    "import warnings\n",
    "warnings.filterwarnings('ignore')\n",
    "\n",
    "from collections import Counter\n",
    "\n",
    "#import machine learning model\n",
    "\n",
    "\n",
    "#import stats\n",
    "from scipy import stats\n",
    "\n",
    "pd.set_option('display.max_columns', 500)"
   ]
  },
  {
   "cell_type": "markdown",
   "metadata": {},
   "source": [
    "# Read Files"
   ]
  },
  {
   "cell_type": "code",
   "execution_count": 7,
   "metadata": {},
   "outputs": [],
   "source": [
    "train_df = pd.read_csv('./data/train.csv', index_col = 0)\n",
    "test_df = pd.read_csv('data/test.csv', index_col = 0)\n",
    "\n",
    "full_data = [train_df, test_df]\n",
    "\n",
    "combine = pd.concat(full_data)\n",
    "combine_c = combine.copy()"
   ]
  },
  {
   "cell_type": "markdown",
   "metadata": {},
   "source": [
    "# Data Cleaning"
   ]
  },
  {
   "cell_type": "code",
   "execution_count": 8,
   "metadata": {},
   "outputs": [],
   "source": [
    "# numeric variables \n",
    "cont_col = ['LotFrontage', 'LotArea',  'MasVnrArea', 'BsmtFinSF1', 'BsmtFinSF2',\n",
    "          'BsmtUnfSF', 'TotalBsmtSF', '1stFlrSF', '2ndFlrSF', 'LowQualFinSF',\n",
    "          'GrLivArea', 'BsmtFullBath', 'BsmtHalfBath', 'FullBath', 'HalfBath',\n",
    "           'BedroomAbvGr', 'KitchenAbvGr', 'TotRmsAbvGrd', 'Fireplaces',\n",
    "           'GarageCars', 'GarageArea', 'WoodDeckSF', 'OpenPorchSF',\n",
    "           'EnclosedPorch', '3SsnPorch', 'ScreenPorch', 'PoolArea', 'MiscVal',\n",
    "           'MoSold', 'GarageYrBlt', 'YrSold', 'YearBuilt','YearRemodAdd', 'OverallQual',\n",
    "           'OverallCond']\n",
    "\n",
    "# check missing in continous variable\n",
    "check_cont_missing = np.sum(combine[cont_col].isnull())[np.sum(combine[cont_col].isnull())>0]\n",
    "cont_impute_0 = list(set(check_cont_missing.index) - {'GarageYrBlt'} - {'LotFrontage'})\n",
    "\n",
    "# categorical variable\n",
    "cat_col = list(set(combine.columns)-set(cont_col)-{'SalePrice'})\n",
    "cat_missing = list(np.sum(combine[cat_col].isnull())[np.sum(combine[cat_col].isnull())>0].index)\n",
    "\n",
    "# define function to impute missing value\n",
    "def impute_missing(dfName):\n",
    "    \n",
    "    # impute Continous numeric Variables   \n",
    "    dfName['GarageYrBlt'] = dfName['GarageYrBlt'].fillna(min(dfName['GarageYrBlt']))\n",
    "    dfName['LotFrontage'] = dfName.groupby(\"Neighborhood\")[\"LotFrontage\"].transform(lambda x: x.fillna(x.median()))\n",
    "    \n",
    "    # impute 0\n",
    "    for col in cont_impute_0:\n",
    "        dfName[col].fillna(0, inplace = True)\n",
    "    \n",
    "    # impute categorical variable missing not at Random\n",
    "    dfName['Electrical'] = dfName['Electrical'].fillna(dfName['Electrical'].mode()[0])\n",
    "    \n",
    "    cat_missing.remove('Electrical')\n",
    "    # impute None\n",
    "    for col in cat_missing:\n",
    "        dfName[col].fillna('None', inplace = True)"
   ]
  },
  {
   "cell_type": "code",
   "execution_count": 9,
   "metadata": {},
   "outputs": [],
   "source": [
    "#impute\n",
    "impute_missing(combine_c)"
   ]
  },
  {
   "cell_type": "code",
   "execution_count": 10,
   "metadata": {
    "scrolled": true
   },
   "outputs": [
    {
     "data": {
      "text/plain": [
       "SalePrice    1459\n",
       "dtype: int64"
      ]
     },
     "execution_count": 10,
     "metadata": {},
     "output_type": "execute_result"
    }
   ],
   "source": [
    "#check na again\n",
    "np.sum(combine_c.isnull())[np.sum(combine_c.isnull())>0]"
   ]
  },
  {
   "cell_type": "markdown",
   "metadata": {},
   "source": [
    "# Outliers"
   ]
  },
  {
   "cell_type": "code",
   "execution_count": 11,
   "metadata": {},
   "outputs": [],
   "source": [
    "#define function to detect outliers\n",
    "def detect_outliers(df,n,cols):\n",
    "    outliner_index = []\n",
    "    #iterate columns\n",
    "    for col in cols:\n",
    "        Q1 = np.percentile(df[col], 25)\n",
    "        Q3 = np.percentile(df[col], 75)\n",
    "        IQR = Q3 - Q1\n",
    "        #calculate outliers bound\n",
    "        bound = 1.5 * IQR\n",
    "        lower_bound = Q1 - bound\n",
    "        upper_bound = Q3 + bound\n",
    "        #get list of outliners\n",
    "        index = df[(df[col] < lower_bound) | (df[col] > upper_bound)].index\n",
    "        outliner_index.extend(index)\n",
    "    outliner_index = Counter(outliner_index)\n",
    "    multiple_outliners = list(k for k,v in outliner_index.items() if v > n)\n",
    "    return multiple_outliners"
   ]
  },
  {
   "cell_type": "code",
   "execution_count": 12,
   "metadata": {},
   "outputs": [],
   "source": [
    "outliers_index = detect_outliers(combine_c[combine_c.SalePrice.notnull()], 7, cont_col)\n",
    "combine_c.drop(outliers_index, inplace=True)"
   ]
  },
  {
   "cell_type": "markdown",
   "metadata": {},
   "source": [
    "# Dummify"
   ]
  },
  {
   "cell_type": "code",
   "execution_count": 13,
   "metadata": {},
   "outputs": [],
   "source": [
    "#define get dummy function for all dummy variables\n",
    "def get_dummy(df, cols):\n",
    "    for col in cols:\n",
    "        dummies = pd.get_dummies(df[col], prefix=col, dummy_na=False)\n",
    "        df = df.drop(col, 1)\n",
    "        df = pd.concat([df, dummies], axis=1)\n",
    "    return df"
   ]
  },
  {
   "cell_type": "code",
   "execution_count": 14,
   "metadata": {},
   "outputs": [],
   "source": [
    "combine_d = get_dummy(combine_c, cat_col)"
   ]
  },
  {
   "cell_type": "code",
   "execution_count": 15,
   "metadata": {},
   "outputs": [
    {
     "name": "stdout",
     "output_type": "stream",
     "text": [
      "(2916, 324)\n"
     ]
    }
   ],
   "source": [
    "print(combine_d.shape)"
   ]
  },
  {
   "cell_type": "code",
   "execution_count": 16,
   "metadata": {},
   "outputs": [],
   "source": [
    "dtrain = combine_d[combine_d.SalePrice.notnull()]\n",
    "dtest = combine_d[combine_d.SalePrice.isnull()].drop(columns = 'SalePrice')"
   ]
  },
  {
   "cell_type": "code",
   "execution_count": 17,
   "metadata": {
    "scrolled": true
   },
   "outputs": [
    {
     "name": "stdout",
     "output_type": "stream",
     "text": [
      "(1457, 324)\n",
      "(1459, 323)\n"
     ]
    }
   ],
   "source": [
    "print(dtrain.shape)\n",
    "print(dtest.shape)"
   ]
  },
  {
   "cell_type": "markdown",
   "metadata": {},
   "source": [
    "# Model"
   ]
  },
  {
   "cell_type": "code",
   "execution_count": 18,
   "metadata": {},
   "outputs": [],
   "source": [
    "import sklearn.model_selection as ms\n",
    "from sklearn.linear_model import Lasso, Ridge, ElasticNet\n",
    "from sklearn.metrics import mean_squared_error\n",
    "from math import sqrt\n",
    "import sklearn.metrics"
   ]
  },
  {
   "cell_type": "code",
   "execution_count": 19,
   "metadata": {},
   "outputs": [],
   "source": [
    "lasso = Lasso()\n",
    "ridge = Ridge()\n",
    "net = ElasticNet()"
   ]
  },
  {
   "cell_type": "code",
   "execution_count": 20,
   "metadata": {},
   "outputs": [],
   "source": [
    "features = dtrain.drop('SalePrice', axis = 1)\n",
    "price = dtrain.SalePrice"
   ]
  },
  {
   "cell_type": "code",
   "execution_count": 21,
   "metadata": {
    "scrolled": false
   },
   "outputs": [
    {
     "data": {
      "text/plain": [
       "Lasso(alpha=1.0, copy_X=True, fit_intercept=True, max_iter=1000,\n",
       "   normalize=True, positive=False, precompute=False, random_state=None,\n",
       "   selection='cyclic', tol=0.0001, warm_start=False)"
      ]
     },
     "execution_count": 21,
     "metadata": {},
     "output_type": "execute_result"
    }
   ],
   "source": [
    "lasso.set_params(normalize = True)\n",
    "lasso.fit(features, price)"
   ]
  },
  {
   "cell_type": "code",
   "execution_count": null,
   "metadata": {},
   "outputs": [],
   "source": []
  },
  {
   "cell_type": "code",
   "execution_count": null,
   "metadata": {},
   "outputs": [],
   "source": []
  },
  {
   "cell_type": "code",
   "execution_count": null,
   "metadata": {},
   "outputs": [],
   "source": []
  },
  {
   "cell_type": "code",
   "execution_count": null,
   "metadata": {},
   "outputs": [],
   "source": []
  },
  {
   "cell_type": "markdown",
   "metadata": {},
   "source": [
    "# Write Data"
   ]
  },
  {
   "cell_type": "code",
   "execution_count": 240,
   "metadata": {},
   "outputs": [],
   "source": [
    "x = pd.concat([dtest.reset_index(), pd.Series(lasso.predict(dtest)).rename('SalePrice')], axis=1)[['Id', 'SalePrice']].set_index('Id')\n",
    "x.to_csv('second_try.csv')"
   ]
  },
  {
   "cell_type": "code",
   "execution_count": 33,
   "metadata": {},
   "outputs": [
    {
     "data": {
      "text/plain": [
       "(1457, 324)"
      ]
     },
     "execution_count": 33,
     "metadata": {},
     "output_type": "execute_result"
    }
   ],
   "source": [
    "dtrain.shape"
   ]
  },
  {
   "cell_type": "code",
   "execution_count": 34,
   "metadata": {},
   "outputs": [],
   "source": [
    "X_train, X_test, y_train, y_test = train_test_split(features,price, test_size=0.33, random_state=42)"
   ]
  },
  {
   "cell_type": "code",
   "execution_count": null,
   "metadata": {},
   "outputs": [],
   "source": []
  },
  {
   "cell_type": "code",
   "execution_count": 30,
   "metadata": {},
   "outputs": [],
   "source": [
    "from sklearn.model_selection import train_test_split\n",
    "from sklearn.ensemble import RandomForestRegressor\n",
    "from sklearn.pipeline import Pipeline, make_pipeline, FeatureUnion\n",
    "\n",
    "from sklearn.preprocessing import Imputer"
   ]
  },
  {
   "cell_type": "code",
   "execution_count": 26,
   "metadata": {},
   "outputs": [],
   "source": [
    "from sklearn.model_selection import cross_val_score,GridSearchCV, RandomizedSearchCV"
   ]
  },
  {
   "cell_type": "code",
   "execution_count": 48,
   "metadata": {},
   "outputs": [],
   "source": [
    "ridge = Ridge()"
   ]
  },
  {
   "cell_type": "code",
   "execution_count": 55,
   "metadata": {},
   "outputs": [],
   "source": [
    "from sklearn.pipeline import Pipeline\n",
    "from sklearn.feature_extraction.text import CountVectorizer, TfidfTransformer\n",
    "from sklearn.model_selection import train_test_split\n",
    "from sklearn.svm import LinearSVC"
   ]
  },
  {
   "cell_type": "code",
   "execution_count": 60,
   "metadata": {},
   "outputs": [],
   "source": [
    "ridge = Ridge()\n",
    "lasso = Lasso()\n",
    "\n",
    "lis_ = [ridge, lasso]"
   ]
  },
  {
   "cell_type": "code",
   "execution_count": 61,
   "metadata": {},
   "outputs": [
    {
     "ename": "TypeError",
     "evalue": "All intermediate steps should be transformers and implement fit and transform. 'Ridge(alpha=1.0, copy_X=True, fit_intercept=True, max_iter=None,\n   normalize=False, random_state=None, solver='auto', tol=0.001)' (type <class 'sklearn.linear_model.ridge.Ridge'>) doesn't",
     "output_type": "error",
     "traceback": [
      "\u001b[1;31m---------------------------------------------------------------------------\u001b[0m",
      "\u001b[1;31mTypeError\u001b[0m                                 Traceback (most recent call last)",
      "\u001b[1;32m<ipython-input-61-6b29d9f123cf>\u001b[0m in \u001b[0;36m<module>\u001b[1;34m\u001b[0m\n\u001b[1;32m----> 1\u001b[1;33m \u001b[0mpipe\u001b[0m \u001b[1;33m=\u001b[0m \u001b[0mmake_pipeline\u001b[0m\u001b[1;33m(\u001b[0m\u001b[0mridge\u001b[0m\u001b[1;33m,\u001b[0m \u001b[0mlasso\u001b[0m\u001b[1;33m)\u001b[0m\u001b[1;33m\u001b[0m\u001b[1;33m\u001b[0m\u001b[0m\n\u001b[0m",
      "\u001b[1;32m~\\Anaconda3\\lib\\site-packages\\sklearn\\pipeline.py\u001b[0m in \u001b[0;36mmake_pipeline\u001b[1;34m(*steps, **kwargs)\u001b[0m\n\u001b[0;32m    592\u001b[0m         raise TypeError('Unknown keyword arguments: \"{}\"'\n\u001b[0;32m    593\u001b[0m                         .format(list(kwargs.keys())[0]))\n\u001b[1;32m--> 594\u001b[1;33m     \u001b[1;32mreturn\u001b[0m \u001b[0mPipeline\u001b[0m\u001b[1;33m(\u001b[0m\u001b[0m_name_estimators\u001b[0m\u001b[1;33m(\u001b[0m\u001b[0msteps\u001b[0m\u001b[1;33m)\u001b[0m\u001b[1;33m,\u001b[0m \u001b[0mmemory\u001b[0m\u001b[1;33m=\u001b[0m\u001b[0mmemory\u001b[0m\u001b[1;33m)\u001b[0m\u001b[1;33m\u001b[0m\u001b[1;33m\u001b[0m\u001b[0m\n\u001b[0m\u001b[0;32m    595\u001b[0m \u001b[1;33m\u001b[0m\u001b[0m\n\u001b[0;32m    596\u001b[0m \u001b[1;33m\u001b[0m\u001b[0m\n",
      "\u001b[1;32m~\\Anaconda3\\lib\\site-packages\\sklearn\\pipeline.py\u001b[0m in \u001b[0;36m__init__\u001b[1;34m(self, steps, memory)\u001b[0m\n\u001b[0;32m    117\u001b[0m     \u001b[1;32mdef\u001b[0m \u001b[0m__init__\u001b[0m\u001b[1;33m(\u001b[0m\u001b[0mself\u001b[0m\u001b[1;33m,\u001b[0m \u001b[0msteps\u001b[0m\u001b[1;33m,\u001b[0m \u001b[0mmemory\u001b[0m\u001b[1;33m=\u001b[0m\u001b[1;32mNone\u001b[0m\u001b[1;33m)\u001b[0m\u001b[1;33m:\u001b[0m\u001b[1;33m\u001b[0m\u001b[1;33m\u001b[0m\u001b[0m\n\u001b[0;32m    118\u001b[0m         \u001b[0mself\u001b[0m\u001b[1;33m.\u001b[0m\u001b[0msteps\u001b[0m \u001b[1;33m=\u001b[0m \u001b[0msteps\u001b[0m\u001b[1;33m\u001b[0m\u001b[1;33m\u001b[0m\u001b[0m\n\u001b[1;32m--> 119\u001b[1;33m         \u001b[0mself\u001b[0m\u001b[1;33m.\u001b[0m\u001b[0m_validate_steps\u001b[0m\u001b[1;33m(\u001b[0m\u001b[1;33m)\u001b[0m\u001b[1;33m\u001b[0m\u001b[1;33m\u001b[0m\u001b[0m\n\u001b[0m\u001b[0;32m    120\u001b[0m         \u001b[0mself\u001b[0m\u001b[1;33m.\u001b[0m\u001b[0mmemory\u001b[0m \u001b[1;33m=\u001b[0m \u001b[0mmemory\u001b[0m\u001b[1;33m\u001b[0m\u001b[1;33m\u001b[0m\u001b[0m\n\u001b[0;32m    121\u001b[0m \u001b[1;33m\u001b[0m\u001b[0m\n",
      "\u001b[1;32m~\\Anaconda3\\lib\\site-packages\\sklearn\\pipeline.py\u001b[0m in \u001b[0;36m_validate_steps\u001b[1;34m(self)\u001b[0m\n\u001b[0;32m    165\u001b[0m                 raise TypeError(\"All intermediate steps should be \"\n\u001b[0;32m    166\u001b[0m                                 \u001b[1;34m\"transformers and implement fit and transform.\"\u001b[0m\u001b[1;33m\u001b[0m\u001b[1;33m\u001b[0m\u001b[0m\n\u001b[1;32m--> 167\u001b[1;33m                                 \" '%s' (type %s) doesn't\" % (t, type(t)))\n\u001b[0m\u001b[0;32m    168\u001b[0m \u001b[1;33m\u001b[0m\u001b[0m\n\u001b[0;32m    169\u001b[0m         \u001b[1;31m# We allow last estimator to be None as an identity transformation\u001b[0m\u001b[1;33m\u001b[0m\u001b[1;33m\u001b[0m\u001b[1;33m\u001b[0m\u001b[0m\n",
      "\u001b[1;31mTypeError\u001b[0m: All intermediate steps should be transformers and implement fit and transform. 'Ridge(alpha=1.0, copy_X=True, fit_intercept=True, max_iter=None,\n   normalize=False, random_state=None, solver='auto', tol=0.001)' (type <class 'sklearn.linear_model.ridge.Ridge'>) doesn't"
     ]
    }
   ],
   "source": [
    "pipe = make_pipeline(ridge, lasso)"
   ]
  },
  {
   "cell_type": "code",
   "execution_count": 39,
   "metadata": {},
   "outputs": [
    {
     "data": {
      "text/plain": [
       "Pipeline(memory=None,\n",
       "     steps=[('imputer', Imputer(axis=0, copy=True, missing_values='NaN', strategy='mean', verbose=0)), ('randomforestregressor', RandomForestRegressor(bootstrap=True, criterion='mse', max_depth=None,\n",
       "           max_features='auto', max_leaf_nodes=None,\n",
       "           min_impurity_decrease=0.0, min_impurity_s...ators=10, n_jobs=None,\n",
       "           oob_score=False, random_state=None, verbose=0, warm_start=False))])"
      ]
     },
     "execution_count": 39,
     "metadata": {},
     "output_type": "execute_result"
    }
   ],
   "source": [
    "my_pipe.fit(X_train, y_train)"
   ]
  },
  {
   "cell_type": "code",
   "execution_count": 40,
   "metadata": {},
   "outputs": [
    {
     "data": {
      "text/plain": [
       "array([129100. , 184615.5, 235191. ,  91780. , 316458.5, 146475.2,\n",
       "       176354. , 142075. , 138265. , 129575. , 136000. , 122687.5,\n",
       "       247695. , 281756.1,  98520. ,  89300. , 201350. , 171573.5,\n",
       "       184813.2, 209020. ,  78200. , 174200. , 175853.2, 138560. ,\n",
       "       191150. , 164710. , 220750. , 384776. , 286528. , 144650. ,\n",
       "       123286.4, 378358.7, 118560. , 111210. , 138560. , 142395. ,\n",
       "       208480. , 146090. , 167006.5, 188640. , 130900. , 218388. ,\n",
       "       101467.6, 208471. , 140930. , 117535. , 133050. , 125990. ,\n",
       "       157545. , 132900. , 138190. , 238150. , 214000. , 182545. ,\n",
       "       171052.1, 233808. , 199940. , 151690. , 147220. , 216057. ,\n",
       "        79150. , 356225.6, 311621.9, 309478.9, 265935.4, 220800. ,\n",
       "       251480. ,  80855. , 152190. , 174339. , 132440. , 141000. ,\n",
       "       188190. , 143390. , 145150. , 172027.5, 248557.2, 170252.2,\n",
       "       141240. , 121945. , 181790. , 127340. , 233090. , 209104. ,\n",
       "       293150. , 393125.1, 186669.5, 181163.4, 128297.5, 142940. ,\n",
       "       132580. , 155490. , 165826.9, 130277.6, 127390. , 179444. ,\n",
       "       221239.7, 144000. , 242453. , 253110. , 191065.1, 131380. ,\n",
       "       234040. , 150425. , 152140.5, 119930. , 170853.5, 225180. ,\n",
       "       132780. , 129620. ,  63751.1, 159850. , 133935. , 198197.3,\n",
       "       194803.7, 137370. , 105050. , 142300. , 115890. , 193016.5,\n",
       "       167735.5, 113030. , 253370. , 172890. , 195437.9, 195401.2,\n",
       "       256950. , 346340. , 139330. , 123020. , 245308.9,  99300. ,\n",
       "       108900. , 307050. , 206300. , 185150. , 152260. , 132710. ,\n",
       "       179878.5, 200957.8,  98200. , 182650. , 182020. , 125240. ,\n",
       "       515529.2, 122780. , 207490. , 325597.4, 222519.9, 126935. ,\n",
       "       117975. , 154747.5, 189850. , 176240. , 195545. , 136825.5,\n",
       "       350231.4, 202440. , 234850. , 173305. , 238735. , 126090. ,\n",
       "       185435. , 238225. , 245250. , 115990. , 176347.5, 148570. ,\n",
       "       449227.4, 180600. , 180750. ,  93765. , 137790.5, 248748.2,\n",
       "       216310. , 149750. , 254592.1, 209683. , 121490. ,  91350. ,\n",
       "       134080. , 222530. , 118740. , 143590. ,  96590. , 166970. ,\n",
       "       132686.4, 214917.8, 323589.2, 126150. , 120400. , 114387.6,\n",
       "       200859. , 233170. ,  87201.1, 121700. , 177165. , 104100. ,\n",
       "       214040. , 140990. , 108550. , 145550. , 124500. , 106325. ,\n",
       "       334500. , 125890. , 136538.3, 316770. , 140345. , 140500. ,\n",
       "       125450. , 137590. , 130490. , 195365. , 272000. ,  94240. ,\n",
       "       179170. , 118588.3, 142450. , 137527.5, 143490. , 224641.2,\n",
       "       167450. , 162460. , 152770. , 115146.6, 311800. , 103470. ,\n",
       "       211030. , 150840. , 102100. , 130370. , 207496. , 148212.5,\n",
       "       181483.7, 257206.1, 111800. , 134530. , 149685. , 222900. ,\n",
       "       151940. , 108500. , 262277.8, 430972.4, 247645. , 193996. ,\n",
       "       215550. , 157750. , 140680.5,  99567.6, 110850. , 348458.9,\n",
       "        78040. , 147080. , 151695. , 203810. , 125950. , 156883.2,\n",
       "       190940. ,  96865. , 297363.2, 160940. , 211065. , 105890. ,\n",
       "       235968.4, 122490. , 164400. , 142930. , 130565. , 175068.5,\n",
       "       146290. , 164467.5, 171653.2, 136900. , 144290. , 169770. ,\n",
       "       149100. , 192127.3, 182254. , 191121.5, 181450. , 110390. ,\n",
       "       197762.8, 116870. , 266752.6, 167510. , 170950. , 340969.5,\n",
       "       108740. , 157400. , 140590. , 114100. , 259278. , 214530. ,\n",
       "        98140. , 169060. , 364717.8, 240565. , 177507.2, 117685. ,\n",
       "       175240. , 228400. , 126920. , 126096.4, 179730. , 141190. ,\n",
       "       176750. , 171906.5, 213055.7,  89031.1, 176360. , 198400. ,\n",
       "       112310. , 109140. , 104500. , 172819. , 186065. , 171620. ,\n",
       "       174350. , 217266.5, 147740. , 143136.4, 136500. , 186336.6,\n",
       "       197810. , 119950. , 113446.4, 240907.7, 159390. , 191590. ,\n",
       "       153471. , 149562.5, 278930. , 144000.2, 326399.4, 138640. ,\n",
       "       112275. , 105950. , 181140. , 182040. , 191630. , 118750. ,\n",
       "       164180. , 167877. , 327381.3, 348450.5, 115986.4, 196857.5,\n",
       "        89475. ,  86350. , 128380. , 214426.5, 196271. , 222937. ,\n",
       "       179615. , 307710. , 137490. , 125500. , 160280. , 228517.8,\n",
       "       242579. ,  96225. , 242142.3,  96900. , 196050. , 122638.3,\n",
       "       124350. , 146890. , 144490. , 361490.2, 132250. , 166090. ,\n",
       "       136772.5, 231590. , 123890. , 199200. , 137345.8, 201620. ,\n",
       "       166515.2, 240200. , 173640. , 194802.8, 210343.6, 167040. ,\n",
       "       141240. , 191860. , 364360.4, 106980. , 129880. , 120660. ,\n",
       "       141425. , 124540. , 244062. ,  84990. , 317081.1, 177582.2,\n",
       "       155510. , 143420. , 199590. , 213840. , 154705. ,  99100. ,\n",
       "       230845. , 114058.3, 197346.5, 148375.8, 135080. , 128050. ,\n",
       "       145740. , 226222.4,  93408.7, 144720. , 119387.6, 158020. ,\n",
       "       128617.3, 208610. , 245400. , 132400. , 235760. , 144435. ,\n",
       "       229629.3, 144785. , 141500. , 153560. , 123470. , 128650. ,\n",
       "       225705. , 141490. , 137870. , 135980. , 151440. , 285827.7,\n",
       "       268747. , 260190.6, 220700. , 346451.5, 190895. , 184740.6,\n",
       "       148935. , 241807. , 128700. , 148380. , 125750. , 123540. ,\n",
       "       142335. , 220607.8, 137150. , 173880. , 109950. , 103200. ,\n",
       "       220260. , 138840. , 185796.5, 540469.4, 210229. ,  76040. ,\n",
       "       147040. , 118790. , 183640. , 157450. , 145240. , 206790. ,\n",
       "       263830. , 314517.8, 118120. , 146100. , 135190. , 265068.2,\n",
       "       363740.5, 111690. , 203208. , 131950. , 136120. , 237080. ,\n",
       "       115920. , 118046.6, 207425. , 146317.5, 132700. , 143590. ,\n",
       "       164400. ])"
      ]
     },
     "execution_count": 40,
     "metadata": {},
     "output_type": "execute_result"
    }
   ],
   "source": [
    "my_pipe.predict(X_test)"
   ]
  },
  {
   "cell_type": "code",
   "execution_count": null,
   "metadata": {},
   "outputs": [],
   "source": []
  },
  {
   "cell_type": "code",
   "execution_count": null,
   "metadata": {},
   "outputs": [],
   "source": []
  },
  {
   "cell_type": "code",
   "execution_count": null,
   "metadata": {},
   "outputs": [],
   "source": []
  },
  {
   "cell_type": "code",
   "execution_count": null,
   "metadata": {},
   "outputs": [],
   "source": []
  },
  {
   "cell_type": "code",
   "execution_count": null,
   "metadata": {},
   "outputs": [],
   "source": []
  },
  {
   "cell_type": "code",
   "execution_count": null,
   "metadata": {},
   "outputs": [],
   "source": []
  },
  {
   "cell_type": "code",
   "execution_count": null,
   "metadata": {},
   "outputs": [],
   "source": []
  },
  {
   "cell_type": "code",
   "execution_count": null,
   "metadata": {},
   "outputs": [],
   "source": []
  },
  {
   "cell_type": "code",
   "execution_count": null,
   "metadata": {},
   "outputs": [],
   "source": []
  },
  {
   "cell_type": "code",
   "execution_count": null,
   "metadata": {},
   "outputs": [],
   "source": []
  },
  {
   "cell_type": "code",
   "execution_count": null,
   "metadata": {},
   "outputs": [],
   "source": []
  },
  {
   "cell_type": "code",
   "execution_count": null,
   "metadata": {},
   "outputs": [],
   "source": []
  },
  {
   "cell_type": "code",
   "execution_count": null,
   "metadata": {},
   "outputs": [],
   "source": []
  },
  {
   "cell_type": "code",
   "execution_count": null,
   "metadata": {},
   "outputs": [],
   "source": []
  },
  {
   "cell_type": "code",
   "execution_count": null,
   "metadata": {},
   "outputs": [],
   "source": []
  },
  {
   "cell_type": "code",
   "execution_count": null,
   "metadata": {},
   "outputs": [],
   "source": []
  },
  {
   "cell_type": "code",
   "execution_count": null,
   "metadata": {},
   "outputs": [],
   "source": []
  }
 ],
 "metadata": {
  "kernelspec": {
   "display_name": "Python 3",
   "language": "python",
   "name": "python3"
  },
  "language_info": {
   "codemirror_mode": {
    "name": "ipython",
    "version": 3
   },
   "file_extension": ".py",
   "mimetype": "text/x-python",
   "name": "python",
   "nbconvert_exporter": "python",
   "pygments_lexer": "ipython3",
   "version": "3.7.1"
  }
 },
 "nbformat": 4,
 "nbformat_minor": 2
}
